{
 "cells": [
  {
   "cell_type": "code",
   "execution_count": 1,
   "metadata": {},
   "outputs": [
    {
     "name": "stdout",
     "output_type": "stream",
     "text": [
      "('Pepe', 100)\n",
      "('Paco', 530)\n"
     ]
    }
   ],
   "source": [
    "import mysql.connector\n",
    "mydb = mysql.connector.connect(host=\"bi91ppcu2sgz1cpwtou9-mysql.services.clever-cloud.com\",\n",
    "                     user=\"umwnowf1sh2nhwcj\",\n",
    "                     passwd=\"NrYK2cnE3AML56gDayCv\",\n",
    "                     db=\"bi91ppcu2sgz1cpwtou9\")\n",
    "mycursor = mydb.cursor()\n",
    "\n",
    "mycursor.execute(\"SELECT * FROM CUENTA\")\n",
    "\n",
    "myresult = mycursor.fetchall()\n",
    "\n",
    "for x in myresult:\n",
    "  print(x)"
   ]
  },
  {
   "cell_type": "code",
   "execution_count": 2,
   "metadata": {},
   "outputs": [
    {
     "name": "stdout",
     "output_type": "stream",
     "text": [
      "0 record(s) affected\n"
     ]
    }
   ],
   "source": [
    "import mysql.connector\n",
    "mydb = mysql.connector.connect(host=\"bi91ppcu2sgz1cpwtou9-mysql.services.clever-cloud.com\",\n",
    "                     user=\"umwnowf1sh2nhwcj\",\n",
    "                     passwd=\"NrYK2cnE3AML56gDayCv\",\n",
    "                     db=\"bi91ppcu2sgz1cpwtou9\")\n",
    "mycursor = mydb.cursor()\n",
    "\n",
    "sql = \"UPDATE CUENTA SET cantidad = '100' WHERE usuario = 'Pepe'\"\n",
    "\n",
    "mycursor.execute(sql)\n",
    "\n",
    "mydb.commit()\n",
    "\n",
    "print(mycursor.rowcount, \"record(s) affected\")\n"
   ]
  },
  {
   "cell_type": "code",
   "execution_count": 3,
   "metadata": {},
   "outputs": [
    {
     "name": "stdout",
     "output_type": "stream",
     "text": [
      "1\n"
     ]
    }
   ],
   "source": [
    "import mysql.connector\n",
    "mydb = mysql.connector.connect(host=\"bi91ppcu2sgz1cpwtou9-mysql.services.clever-cloud.com\",\n",
    "                     user=\"umwnowf1sh2nhwcj\",\n",
    "                     passwd=\"NrYK2cnE3AML56gDayCv\",\n",
    "                     db=\"bi91ppcu2sgz1cpwtou9\")\n",
    "mycursor = mydb.cursor()\n",
    "\n",
    "mycursor.execute(\"SELECT COUNT(usuario) FROM CUENTA WHERE usuario='Pepe'\")\n",
    "\n",
    "myresult = mycursor.fetchone()\n",
    "\n",
    "print(myresult[0])"
   ]
  },
  {
   "cell_type": "code",
   "execution_count": 4,
   "metadata": {},
   "outputs": [
    {
     "name": "stdout",
     "output_type": "stream",
     "text": [
      "100\n"
     ]
    }
   ],
   "source": [
    "import mysql.connector\n",
    "mydb = mysql.connector.connect(host=\"bi91ppcu2sgz1cpwtou9-mysql.services.clever-cloud.com\",\n",
    "                     user=\"umwnowf1sh2nhwcj\",\n",
    "                     passwd=\"NrYK2cnE3AML56gDayCv\",\n",
    "                     db=\"bi91ppcu2sgz1cpwtou9\")\n",
    "mycursor = mydb.cursor()\n",
    "\n",
    "mycursor.execute(\"SELECT cantidad FROM CUENTA WHERE usuario='Pepe'\")\n",
    "\n",
    "myresult = mycursor.fetchone()\n",
    "\n",
    "print(myresult[0])"
   ]
  },
  {
   "cell_type": "code",
   "execution_count": null,
   "metadata": {},
   "outputs": [],
   "source": []
  },
  {
   "cell_type": "code",
   "execution_count": null,
   "metadata": {},
   "outputs": [],
   "source": []
  }
 ],
 "metadata": {
  "kernelspec": {
   "display_name": "Python 3",
   "language": "python",
   "name": "python3"
  },
  "language_info": {
   "codemirror_mode": {
    "name": "ipython",
    "version": 3
   },
   "file_extension": ".py",
   "mimetype": "text/x-python",
   "name": "python",
   "nbconvert_exporter": "python",
   "pygments_lexer": "ipython3",
   "version": "3.7.6"
  }
 },
 "nbformat": 4,
 "nbformat_minor": 4
}

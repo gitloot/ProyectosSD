{
 "cells": [
  {
   "cell_type": "code",
   "execution_count": null,
   "metadata": {},
   "outputs": [],
   "source": [
    "#Librerias a utilizar\n",
    "import socket\n",
    "import time\n",
    "\n",
    "SERVER=\"127.0.0.1\" #ip de localhost\n",
    "PORT=8080 #Puerto a utilizar\n",
    "cliente=socket.socket(socket.AF_INET,socket.SOCK_STREAM)\n",
    "cliente.connect((SERVER, PORT)) #Conexion al servidor utilizando ip y puerto\n",
    "datos_entrada=cliente.recv(1024) #recepcion de datos del servidor en 1024 caracteres\n",
    "bienvenida=datos_entrada.decode(\"UTF-8\")\n",
    "\n",
    "while True:\n",
    "    #Mensajes sobre el tipo de mensajes para el usuario\n",
    "    print(\"¡\",bienvenida,\"!\")\n",
    "    print(\"Seleccione la opcion de sincronizacion\\n\",\n",
    "         \"1.- Sincronizacion por Christian\\n\",\n",
    "         \"2.- Sincronizacion por Barkley\\n\",\n",
    "         \"3.- Salir del servidor\\n\",\n",
    "         \"4.- Transaccion\\n\")\n",
    "    datos_salida = input(\">:\") #ingreso de datos enviado al servidor\n",
    "    cliente.sendall(bytes(datos_salida,'UTF-8')) #envio de datos al servidor\n",
    "    #Sincronizacion por Christian\n",
    "    if datos_salida=='1':\n",
    "        #tiempo_ida=time.clock() En desuso en la versión 3.8 de python\n",
    "        tiempo_ida = time.process_time()\n",
    "        reloj=cliente.recv(1024) #obtencion de tiempo de reloj\n",
    "        print(\"Tiempo de ida \",tiempo_ida)\n",
    "        print(time.ctime(float(reloj.decode('UTF-8'))+tiempo_ida))\n",
    "        print(\"\\n\")\n",
    "    #Sincronizacion por Berkley \n",
    "    elif datos_salida=='2':\n",
    "        reloj_actual=time.time()\n",
    "        cliente.sendall(bytes(str(reloj_actual),'UTF-8'))\n",
    "        reloj=cliente.recv(1024) #obtencion de tiempo de reloj\n",
    "        print(\"Reloj actualizado \",time.ctime(float(reloj.decode('UTF-8'))))\n",
    "    #Opcion para salir del servidor\n",
    "    elif datos_salida=='3':\n",
    "        break\n",
    "    #Opcion de transaccion\n",
    "    elif datos_salida=='4':\n",
    "        \n",
    "\n",
    "cliente.close()\n"
   ]
  },
  {
   "cell_type": "code",
   "execution_count": null,
   "metadata": {},
   "outputs": [],
   "source": []
  }
 ],
 "metadata": {
  "kernelspec": {
   "display_name": "Python 3",
   "language": "python",
   "name": "python3"
  },
  "language_info": {
   "codemirror_mode": {
    "name": "ipython",
    "version": 3
   },
   "file_extension": ".py",
   "mimetype": "text/x-python",
   "name": "python",
   "nbconvert_exporter": "python",
   "pygments_lexer": "ipython3",
   "version": "3.7.6"
  }
 },
 "nbformat": 4,
 "nbformat_minor": 4
}
